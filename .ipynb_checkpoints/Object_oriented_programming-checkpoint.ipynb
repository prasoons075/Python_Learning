{
 "cells": [
  {
   "cell_type": "markdown",
   "metadata": {},
   "source": [
    "## Class and Objects"
   ]
  },
  {
   "cell_type": "markdown",
   "metadata": {},
   "source": [
    "    An object is a software entity that stores data. A class is the blueprint that describes the data stored in an object and defines the operations that can be performed on the object. Objects are created or instantiated from classes, and each object is known as an instance of the class from which it was created.\n",
    "    \n",
    "    Classes - Generalized, example= car\n",
    "        Classes have methods and attributes\n",
    "        \n",
    "    Objects - Specialized, example= Tata Nano\n",
    "        Objects is a software entity that stores data"
   ]
  },
  {
   "cell_type": "code",
   "execution_count": 1,
   "metadata": {},
   "outputs": [],
   "source": [
    "# a sample class\n",
    "class Sample():\n",
    "    pass"
   ]
  },
  {
   "cell_type": "markdown",
   "metadata": {},
   "source": [
    "### Constructors\n",
    "    All classes should define a special method known as the constructor, which de\f",
    "nes and initializes the data to be contained in the object. The constructor is automat- ically called when an instance of the class is created. In Python, the constructor is named __init__ and is usually listed first in the class definition:\n"
   ]
  },
  {
   "cell_type": "code",
   "execution_count": 73,
   "metadata": {},
   "outputs": [],
   "source": [
    "class Point:\n",
    "    def __init__( self, x, y ):\n",
    "        self.xCoord = x\n",
    "        self.yCoord = y"
   ]
  },
  {
   "cell_type": "markdown",
   "metadata": {},
   "source": [
    "    Dunder or magic methods in Python are the methods having two prefix and suffix underscores in \n",
    "    the method name. Dunder here means “Double Under (Underscores)”. These are commonly used for operator overloading.           Few examples for magic methods are: __init__, __add__, __len__, __repr__ etc."
   ]
  },
  {
   "cell_type": "markdown",
   "metadata": {},
   "source": [
    "### Attributes\n",
    "    The data contained in an object is known as the object's data fields or data attributes. The attributes are simply variables, like any other variable in Python, but are stored in the object itself. An object's attributes are accessed using the dot notation and appending the attribute name to the self reference. Any variables not prepended by the self reference are local to the method in which they are defined.\n",
    "    \n",
    "    Since variables in Python are created when they are first assigned a value, the constructor is responsible for creating and initializing the data attribut"
   ]
  },
  {
   "cell_type": "markdown",
   "metadata": {},
   "source": [
    "### Object Instantiation\n",
    "    An instance of a user-defined class is created by invoking the constructor. This is done by specifying the name of the class along with any required arguments as if it were a function call. For example, the following statements create two objects from our Point class and assigns them to the variables pointA and pointB: \n",
    "    \n",
    "    pointA = Point(5, 7) \n",
    "    pointB = Point(0, 0)\n",
    "    \n",
    "    Note that we never call the init method directly. Instead, Python allocates memory for the object, then automati- cally calls the init method for the given class to initialize the new object. The attributes of an object are also known as instance variables since new attributes are created for each instance of the class. In our example, we created two objects and each object has its own variables named xCoord and yCoord.\n",
    "    \n",
    "<img src=\"assets/1.jpg\">"
   ]
  },
  {
   "cell_type": "markdown",
   "metadata": {},
   "source": [
    "### The Self Reference"
   ]
  },
  {
   "cell_type": "markdown",
   "metadata": {},
   "source": [
    "    You may have noticed that the constructor was de\f",
    "ned with three parameters, but we supplied only two arguments when creating the objects. When a method is executed, Python must know on which object the method was invoked in or- der to know which attributes to reference. As indicated earlier, self is a special parameter that must be included in each method definition and it must be listed rst. When a method is called, this parameter is automatically filled with a ref- erence to the object on which the method was invoked. If the method de\f",
    "nes additional parameters, explicit arguments must be passed to the method as part of the method call."
   ]
  },
  {
   "cell_type": "code",
   "execution_count": 77,
   "metadata": {},
   "outputs": [],
   "source": [
    "class Point:\n",
    "    def __init__( self, x, y ):\n",
    "        self.xCoord = x\n",
    "        self.yCoord = y\n",
    "    def getX( self ):\n",
    "        return self.xCoord\n",
    "    def getY( self ):\n",
    "        return self.yCoord"
   ]
  },
  {
   "cell_type": "code",
   "execution_count": 78,
   "metadata": {},
   "outputs": [],
   "source": [
    "pointA = Point(5, 7) \n",
    "pointB = Point(0, 0)"
   ]
  },
  {
   "cell_type": "code",
   "execution_count": 79,
   "metadata": {},
   "outputs": [
    {
     "name": "stdout",
     "output_type": "stream",
     "text": [
      "(5, 7)\n"
     ]
    }
   ],
   "source": [
    "x = pointA.getX()\n",
    "y = pointA.getY()\n",
    "print( \"(\" + str(x) + \", \" + str(y) + \")\" )"
   ]
  },
  {
   "cell_type": "markdown",
   "metadata": {},
   "source": [
    "    When the getX() method is called, Python creates a local variable for the self parameter and assigns it a copy of the reference stored in pointA, as illustrated by Figure D.2. The body of the method is then executed. Since the instance variable is prepended with the self reference and self is an alias for pointA, the value in the xCoord attribute of pointA will be returned.\n",
    "<img src=\"assets/2.jpg\">"
   ]
  },
  {
   "cell_type": "code",
   "execution_count": 80,
   "metadata": {},
   "outputs": [],
   "source": [
    "class Point:\n",
    "    def __init__( self, x, y ):\n",
    "        self.xCoord = x\n",
    "        self.yCoord = y\n",
    "    def getX( self ):\n",
    "        return self.xCoord\n",
    "    def getY( self ):\n",
    "        return self.yCoord\n",
    "    def shift( self, xInc, yInc ):\n",
    "        self.xCoord += xInc\n",
    "        self.yCoord += yInc"
   ]
  },
  {
   "cell_type": "code",
   "execution_count": 85,
   "metadata": {},
   "outputs": [
    {
     "name": "stdout",
     "output_type": "stream",
     "text": [
      "(9, 19)\n"
     ]
    }
   ],
   "source": [
    "pointA = Point(5, 7) \n",
    "pointB = Point(0, 0)\n",
    "pointA.shift(4, 12)\n",
    "x = pointA.getX()\n",
    "y = pointA.getY()\n",
    "print( \"(\" + str(x) + \", \" + str(y) + \")\" )"
   ]
  },
  {
   "cell_type": "markdown",
   "metadata": {},
   "source": [
    "<img src=\"assets/3.jpg\">"
   ]
  },
  {
   "cell_type": "code",
   "execution_count": 5,
   "metadata": {},
   "outputs": [],
   "source": [
    "# example 2\n",
    "class Dog():\n",
    "    def __init__(self,mybreed):\n",
    "        # attributes # we assign using self.attribute_name\n",
    "        self.breed = mybreed\n",
    "my_dog = Dog(mybreed='Alsatian')"
   ]
  },
  {
   "cell_type": "code",
   "execution_count": 6,
   "metadata": {},
   "outputs": [
    {
     "data": {
      "text/plain": [
       "'Alsatian'"
      ]
     },
     "execution_count": 6,
     "metadata": {},
     "output_type": "execute_result"
    }
   ],
   "source": [
    "my_dog.breed"
   ]
  },
  {
   "cell_type": "code",
   "execution_count": 7,
   "metadata": {},
   "outputs": [],
   "source": [
    "# example 3\n",
    "class Dog():\n",
    "    def __init__(self,breed,name,spots):\n",
    "        self.breed = breed\n",
    "        self.name = name\n",
    "        self.spots = spots\n",
    "            "
   ]
  },
  {
   "cell_type": "code",
   "execution_count": 8,
   "metadata": {},
   "outputs": [],
   "source": [
    "my__dog = Dog(breed='Germen shepeard',name='Husky',spots=True)"
   ]
  },
  {
   "cell_type": "code",
   "execution_count": 9,
   "metadata": {},
   "outputs": [
    {
     "data": {
      "text/plain": [
       "True"
      ]
     },
     "execution_count": 9,
     "metadata": {},
     "output_type": "execute_result"
    }
   ],
   "source": [
    "my__dog.spots"
   ]
  },
  {
   "cell_type": "markdown",
   "metadata": {},
   "source": [
    "### Setting class attribute"
   ]
  },
  {
   "cell_type": "code",
   "execution_count": 52,
   "metadata": {},
   "outputs": [],
   "source": [
    "class Dog():\n",
    "    #class object attribute\n",
    "    species = 'Mammmal'\n",
    "    \n",
    "    def __init__(self,breed,name,spots):\n",
    "        # attributes\n",
    "        self.breed = breed\n",
    "        self.name = name\n",
    "        self.spots = spots"
   ]
  },
  {
   "cell_type": "code",
   "execution_count": 53,
   "metadata": {},
   "outputs": [],
   "source": [
    "my__dog = Dog(breed='paddle',name='tuffy',spots=False)"
   ]
  },
  {
   "cell_type": "code",
   "execution_count": 54,
   "metadata": {},
   "outputs": [
    {
     "data": {
      "text/plain": [
       "'Mammmal'"
      ]
     },
     "execution_count": 54,
     "metadata": {},
     "output_type": "execute_result"
    }
   ],
   "source": [
    "my__dog.species"
   ]
  },
  {
   "cell_type": "markdown",
   "metadata": {},
   "source": [
    "### Method\n",
    "\n",
    "Methods are like a function inside the class.While calling a method we have to use close paranthesis ().  While in case of calling attributes it is not needed\n",
    "\n",
    "\n",
    "A method is a service or operation that can be performed on an object created from the given class.\n",
    "\n",
    "    (1) a method is defined as part of a class defnition; \n",
    "    (2) a method can only be used with an instance of the class in which it is defined; and \n",
    "    (3) each method header must include a parameter named self, which must be listed first."
   ]
  },
  {
   "cell_type": "code",
   "execution_count": 55,
   "metadata": {},
   "outputs": [],
   "source": [
    "class Dog():\n",
    "    #class object attribute\n",
    "    species = 'Mammmal'\n",
    "    \n",
    "    def __init__(self,breed,name,spots):\n",
    "        # attributes\n",
    "        self.breed = breed\n",
    "        self.name = name\n",
    "        self.spots = spots\n",
    "        \n",
    "    def Sound(self,sound): #method\n",
    "        print('{} is having a {} sound'.format(self.name,sound))"
   ]
  },
  {
   "cell_type": "code",
   "execution_count": 56,
   "metadata": {},
   "outputs": [],
   "source": [
    "my__dog = Dog(breed='paddle',name='tuffy',spots=False)"
   ]
  },
  {
   "cell_type": "code",
   "execution_count": 58,
   "metadata": {},
   "outputs": [
    {
     "name": "stdout",
     "output_type": "stream",
     "text": [
      "tuffy is having a woff woff sound\n"
     ]
    }
   ],
   "source": [
    "my__dog.Sound(sound='woff woff')"
   ]
  },
  {
   "cell_type": "code",
   "execution_count": 16,
   "metadata": {},
   "outputs": [],
   "source": [
    "class Circle():\n",
    "# class object attribute\n",
    "     pi = 3.14\n",
    "     def __init__(self,radius=5):\n",
    "        self.radius = radius\n",
    "        self.area = (radius**2)*Circle.pi\n",
    "        \n",
    "    # method\n",
    "     def circumference(self):\n",
    "        return 2*Circle.pi*self.radius"
   ]
  },
  {
   "cell_type": "code",
   "execution_count": 17,
   "metadata": {},
   "outputs": [],
   "source": [
    "cir = Circle(radius=34)"
   ]
  },
  {
   "cell_type": "code",
   "execution_count": 18,
   "metadata": {},
   "outputs": [
    {
     "data": {
      "text/plain": [
       "3629.84"
      ]
     },
     "execution_count": 18,
     "metadata": {},
     "output_type": "execute_result"
    }
   ],
   "source": [
    "# calling an atribute\n",
    "cir.area"
   ]
  },
  {
   "cell_type": "code",
   "execution_count": 19,
   "metadata": {},
   "outputs": [
    {
     "data": {
      "text/plain": [
       "213.52"
      ]
     },
     "execution_count": 19,
     "metadata": {},
     "output_type": "execute_result"
    }
   ],
   "source": [
    "# calling a method\n",
    "cir.circumference()"
   ]
  },
  {
   "cell_type": "markdown",
   "metadata": {},
   "source": [
    "## Inheritance and Polymorphism\n",
    "    \n",
    "    Python, like all object-oriented languages, supports class inheritance. Instead of creating a new class from scratch, we can derive a new class from an existing one. The new class automatically inherits all data attributes and methods of the existing class without having to explicitly rede\f",
    "ne the code. This leads to a hierarchical structure in which the newly derived class becomes the child of the original or parent class. Figure D.5 illustrates a hierarchical diagram of derived classes representing the relationship between di\u000b",
    "erent types of bibliography entries. The parent-child relationship produced from the derivation of a new class is known as an is-a relationship in which the derived class is a more speci\f",
    "c version of the original."
   ]
  },
  {
   "cell_type": "code",
   "execution_count": 86,
   "metadata": {},
   "outputs": [],
   "source": [
    "class Animal():\n",
    "    def __init__(self):\n",
    "        print('I am animal')\n",
    "    def feature(self):\n",
    "        print('I have 2 legs or 4 legs')\n",
    "    def live(self):\n",
    "        print('we live in land')"
   ]
  },
  {
   "cell_type": "code",
   "execution_count": 87,
   "metadata": {},
   "outputs": [
    {
     "name": "stdout",
     "output_type": "stream",
     "text": [
      "I am animal\n"
     ]
    }
   ],
   "source": [
    "an = Animal()"
   ]
  },
  {
   "cell_type": "code",
   "execution_count": 22,
   "metadata": {},
   "outputs": [
    {
     "name": "stdout",
     "output_type": "stream",
     "text": [
      "I have 2 legs or 4 legs\n"
     ]
    }
   ],
   "source": [
    "an.feature()"
   ]
  },
  {
   "cell_type": "code",
   "execution_count": 88,
   "metadata": {},
   "outputs": [],
   "source": [
    "# Now we will create a class Cat which we will inherit features from Animal class\n",
    "class Cat(Animal):\n",
    "    def __init__(self):\n",
    "        #Animal.__init__(self)\n",
    "        print(\"I am cat\")\n",
    "    def feature(self):  # overwriting method\n",
    "        print('I have 4 legs')\n",
    "    def sound(self):  # new method\n",
    "        print('Meowwww')"
   ]
  },
  {
   "cell_type": "code",
   "execution_count": 89,
   "metadata": {},
   "outputs": [
    {
     "name": "stdout",
     "output_type": "stream",
     "text": [
      "I am cat\n"
     ]
    }
   ],
   "source": [
    "ct = Cat()"
   ]
  },
  {
   "cell_type": "code",
   "execution_count": 90,
   "metadata": {},
   "outputs": [
    {
     "name": "stdout",
     "output_type": "stream",
     "text": [
      "we live in land\n"
     ]
    }
   ],
   "source": [
    "ct.live()"
   ]
  },
  {
   "cell_type": "code",
   "execution_count": 91,
   "metadata": {},
   "outputs": [
    {
     "name": "stdout",
     "output_type": "stream",
     "text": [
      "I have 4 legs\n"
     ]
    }
   ],
   "source": [
    "# Now if we call  feature we get feature from cat.ie, it will print latest feature thus it will overwrite old one\n",
    "ct.feature()"
   ]
  },
  {
   "cell_type": "code",
   "execution_count": 94,
   "metadata": {},
   "outputs": [],
   "source": [
    "class Cat(Animal):\n",
    "    def __init__(self):\n",
    "        Animal.__init__(self)\n",
    "        print(\"I am cat\")\n",
    "    def feature(self):\n",
    "        print('I have 4 legs')"
   ]
  },
  {
   "cell_type": "code",
   "execution_count": 93,
   "metadata": {},
   "outputs": [
    {
     "name": "stdout",
     "output_type": "stream",
     "text": [
      "I am animal\n",
      "Iam cat\n"
     ]
    }
   ],
   "source": [
    "ct = Cat()"
   ]
  },
  {
   "cell_type": "markdown",
   "metadata": {},
   "source": [
    "## Polymorphism\n",
    "    The third concept related to object-oriented programming is that of polymor-phism. It is a very powerful feature in which the decision as to the specific method to be called is made at run time."
   ]
  },
  {
   "cell_type": "code",
   "execution_count": 95,
   "metadata": {},
   "outputs": [],
   "source": [
    "class Dog():\n",
    "    def __init__(self, name):\n",
    "        self.name = name\n",
    "        print('Hi I am dog my name is {}'.format(self.name))\n",
    "    \n",
    "    def sound(self):\n",
    "        print('woff woff')"
   ]
  },
  {
   "cell_type": "code",
   "execution_count": 96,
   "metadata": {},
   "outputs": [],
   "source": [
    "class Cat():\n",
    "    def __init__(self, name):\n",
    "        self.name = name\n",
    "        print('Hi I am cat my name is {}'.format(self.name))\n",
    "    \n",
    "    def sound(self):\n",
    "        print('Meow Meow')"
   ]
  },
  {
   "cell_type": "markdown",
   "metadata": {},
   "source": [
    "    Polymorphism:\n",
    "    \n",
    "    If there are two classes with many methods and if they share some methods with common name between them we can have polymorphism.For example if we want to open different types of file like csv,xls etc we use common word open in different classes\n",
    "\n"
   ]
  },
  {
   "cell_type": "code",
   "execution_count": 97,
   "metadata": {},
   "outputs": [],
   "source": [
    "def poly(nm):\n",
    "    return nm.sound()"
   ]
  },
  {
   "cell_type": "code",
   "execution_count": 98,
   "metadata": {},
   "outputs": [
    {
     "name": "stdout",
     "output_type": "stream",
     "text": [
      "Hi I am dog my name is Husky\n",
      "Hi I am cat my name is whity\n"
     ]
    }
   ],
   "source": [
    "dg = Dog('Husky')\n",
    "ct = Cat('whity')"
   ]
  },
  {
   "cell_type": "code",
   "execution_count": 99,
   "metadata": {},
   "outputs": [
    {
     "name": "stdout",
     "output_type": "stream",
     "text": [
      "woff woff\n"
     ]
    }
   ],
   "source": [
    "poly(dg)"
   ]
  },
  {
   "cell_type": "code",
   "execution_count": 100,
   "metadata": {},
   "outputs": [
    {
     "name": "stdout",
     "output_type": "stream",
     "text": [
      "Meow Meow\n"
     ]
    }
   ],
   "source": [
    "poly(ct)"
   ]
  },
  {
   "cell_type": "markdown",
   "metadata": {},
   "source": [
    "### Special methods"
   ]
  },
  {
   "cell_type": "code",
   "execution_count": 103,
   "metadata": {},
   "outputs": [],
   "source": [
    "class Dog():\n",
    "    def __init__(self, name):\n",
    "        self.name = name"
   ]
  },
  {
   "cell_type": "code",
   "execution_count": 107,
   "metadata": {},
   "outputs": [],
   "source": [
    "dg = Dog('Husky')"
   ]
  },
  {
   "cell_type": "code",
   "execution_count": 113,
   "metadata": {},
   "outputs": [
    {
     "name": "stdout",
     "output_type": "stream",
     "text": [
      "Husky\n"
     ]
    }
   ],
   "source": [
    "print(dg.name) # will return str(dg)"
   ]
  },
  {
   "cell_type": "code",
   "execution_count": 115,
   "metadata": {},
   "outputs": [
    {
     "data": {
      "text/plain": [
       "5"
      ]
     },
     "execution_count": 115,
     "metadata": {},
     "output_type": "execute_result"
    }
   ],
   "source": [
    "len(dg.name)"
   ]
  },
  {
   "cell_type": "code",
   "execution_count": 120,
   "metadata": {},
   "outputs": [],
   "source": [
    "class Dog():\n",
    "    def __init__(self, name):\n",
    "        self.name = name\n",
    "    def __str__(self):\n",
    "        return ('This is about {}'.format(self.name))\n",
    "    def __len__(self):\n",
    "        return 5"
   ]
  },
  {
   "cell_type": "code",
   "execution_count": 117,
   "metadata": {},
   "outputs": [
    {
     "name": "stdout",
     "output_type": "stream",
     "text": [
      "This is about Husky\n"
     ]
    }
   ],
   "source": [
    "dg = Dog('Husky')\n",
    "print(dg)"
   ]
  },
  {
   "cell_type": "code",
   "execution_count": 118,
   "metadata": {},
   "outputs": [
    {
     "data": {
      "text/plain": [
       "4"
      ]
     },
     "execution_count": 118,
     "metadata": {},
     "output_type": "execute_result"
    }
   ],
   "source": [
    "len(dg)"
   ]
  },
  {
   "cell_type": "markdown",
   "metadata": {},
   "source": [
    "## Exercise :   OOP to return slope and distance of the line given 2 points"
   ]
  },
  {
   "cell_type": "code",
   "execution_count": 42,
   "metadata": {},
   "outputs": [],
   "source": [
    "import math\n",
    "class Point():\n",
    "    def __init__(self,point1,point2):\n",
    "        self.point1 = point1\n",
    "        self.point2 = point2\n",
    "    def slope(self):\n",
    "        x1,y1 = self.point1\n",
    "        x2,y2 = self.point2\n",
    "        slope = (y2 - y1)/(x2 - x1)\n",
    "        return slope\n",
    "        \n",
    "    def distance(self):\n",
    "        x1,y1 = self.point1\n",
    "        x2,y2 = self.point2\n",
    "        dist = math.sqrt(((x2-x1)**2)+((y2-y1)**2))\n",
    "        return dist\n",
    "    "
   ]
  },
  {
   "cell_type": "code",
   "execution_count": 43,
   "metadata": {},
   "outputs": [],
   "source": [
    "fg = Point(point1=(1,2),point2=(3,4))"
   ]
  },
  {
   "cell_type": "code",
   "execution_count": 44,
   "metadata": {},
   "outputs": [
    {
     "data": {
      "text/plain": [
       "2.8284271247461903"
      ]
     },
     "execution_count": 44,
     "metadata": {},
     "output_type": "execute_result"
    }
   ],
   "source": [
    "fg.distance()"
   ]
  },
  {
   "cell_type": "code",
   "execution_count": 45,
   "metadata": {},
   "outputs": [
    {
     "data": {
      "text/plain": [
       "1.0"
      ]
     },
     "execution_count": 45,
     "metadata": {},
     "output_type": "execute_result"
    }
   ],
   "source": [
    "fg.slope()"
   ]
  },
  {
   "cell_type": "markdown",
   "metadata": {},
   "source": [
    "## Excersise2: \n",
    "For this challenge, create a bank account class that has two attributes:\n",
    "\n",
    "* owner\n",
    "* balance\n",
    "\n",
    "and two methods:\n",
    "\n",
    "* deposit\n",
    "* withdraw\n",
    "\n",
    "As an added requirement, withdrawals may not exceed the available balance.\n",
    "\n",
    "Instantiate your class, make several deposits and withdrawals, and test to make sure the account can't be overdrawn.\n",
    "\n"
   ]
  },
  {
   "cell_type": "code",
   "execution_count": 126,
   "metadata": {},
   "outputs": [],
   "source": [
    "class Account():\n",
    "    \n",
    "    def __init__(self,owner,balance = 0):\n",
    "        self.owner = owner\n",
    "        self.balance = balance\n",
    "        print('Hai {} your balance is {}'.format(owner,self.balance))\n",
    "        \n",
    "    def deposit(self,amount):\n",
    "        self.balance = self.balance + int(amount)\n",
    "        print('Hai {} your current balance is {}'.format(self.owner,self.balance))\n",
    "        \n",
    "    def withdraw(self,amount):\n",
    "        if int(amount) >= self.balance:\n",
    "            print('insufficeint balance')\n",
    "        else:\n",
    "            self.balance = self.balance - int(amount)\n",
    "            print('Hai {} your current balance is {}'.format(self.owner,self.balance))\n",
    "    \n",
    "    def __str__(self):\n",
    "        return ('Account owner : {}  \\nAccount balance : {}'.format(self.owner,self.balance))\n",
    "        \n",
    "        \n",
    "        "
   ]
  },
  {
   "cell_type": "code",
   "execution_count": 127,
   "metadata": {
    "scrolled": true
   },
   "outputs": [
    {
     "name": "stdout",
     "output_type": "stream",
     "text": [
      "Hai Prasoon your balance is 0\n"
     ]
    }
   ],
   "source": [
    "acc = Account('Prasoon')"
   ]
  },
  {
   "cell_type": "code",
   "execution_count": 128,
   "metadata": {
    "scrolled": false
   },
   "outputs": [
    {
     "name": "stdout",
     "output_type": "stream",
     "text": [
      "Hai Prasoon your current balance is 5000\n"
     ]
    }
   ],
   "source": [
    "acc.deposit(5000)"
   ]
  },
  {
   "cell_type": "code",
   "execution_count": 129,
   "metadata": {},
   "outputs": [
    {
     "name": "stdout",
     "output_type": "stream",
     "text": [
      "Hai Prasoon your current balance is 4000\n"
     ]
    }
   ],
   "source": [
    "acc.withdraw(1000)"
   ]
  },
  {
   "cell_type": "code",
   "execution_count": 130,
   "metadata": {},
   "outputs": [
    {
     "name": "stdout",
     "output_type": "stream",
     "text": [
      "Hai Prasoon your current balance is 3000\n"
     ]
    }
   ],
   "source": [
    "acc.withdraw(1000)"
   ]
  },
  {
   "cell_type": "code",
   "execution_count": 131,
   "metadata": {},
   "outputs": [
    {
     "name": "stdout",
     "output_type": "stream",
     "text": [
      "Account owner : Prasoon  \n",
      "Account balance : 3000\n"
     ]
    }
   ],
   "source": [
    "print(acc)"
   ]
  }
 ],
 "metadata": {
  "kernelspec": {
   "display_name": "Python 3",
   "language": "python",
   "name": "python3"
  },
  "language_info": {
   "codemirror_mode": {
    "name": "ipython",
    "version": 3
   },
   "file_extension": ".py",
   "mimetype": "text/x-python",
   "name": "python",
   "nbconvert_exporter": "python",
   "pygments_lexer": "ipython3",
   "version": "3.7.3"
  }
 },
 "nbformat": 4,
 "nbformat_minor": 2
}
