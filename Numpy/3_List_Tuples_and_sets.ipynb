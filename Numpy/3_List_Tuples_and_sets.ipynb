{
 "cells": [
  {
   "cell_type": "code",
   "execution_count": 36,
   "metadata": {},
   "outputs": [
    {
     "name": "stdout",
     "output_type": "stream",
     "text": [
      "4\n",
      "3\n",
      "[1, 2]\n",
      "2\n"
     ]
    }
   ],
   "source": [
    "list1 =[[1,2],3,4,[5,6]]\n",
    "print (len(list1))\n",
    "print (list1[1])\n",
    "print (list1[0])\n",
    "print (len(list1[0]))"
   ]
  },
  {
   "cell_type": "code",
   "execution_count": 37,
   "metadata": {},
   "outputs": [
    {
     "name": "stdout",
     "output_type": "stream",
     "text": [
      "[3, 4, [5, 6]]\n"
     ]
    }
   ],
   "source": [
    "list1.remove([1,2])\n",
    "print(list1)"
   ]
  },
  {
   "cell_type": "code",
   "execution_count": 38,
   "metadata": {},
   "outputs": [],
   "source": [
    "# list1.remove(4)\n",
    "# print(list1)"
   ]
  },
  {
   "cell_type": "code",
   "execution_count": 39,
   "metadata": {},
   "outputs": [
    {
     "name": "stdout",
     "output_type": "stream",
     "text": [
      "[3, 4, [5, 6]]\n"
     ]
    }
   ],
   "source": [
    "try :\n",
    "    list1.remove([1,2])\n",
    "    print(list1)\n",
    "except Exception  :\n",
    "    print(list1)"
   ]
  },
  {
   "cell_type": "code",
   "execution_count": 40,
   "metadata": {},
   "outputs": [
    {
     "name": "stdout",
     "output_type": "stream",
     "text": [
      "['Three', 'four', 'one', 'thre1', 'threa', 'three', 'two', 'zero']\n"
     ]
    }
   ],
   "source": [
    "lst2=['one','three','four','two','zero','thre1','Three','threa']\n",
    "lst2=sorted(lst2)\n",
    "print (lst2)"
   ]
  },
  {
   "cell_type": "code",
   "execution_count": 4,
   "metadata": {},
   "outputs": [
    {
     "name": "stdout",
     "output_type": "stream",
     "text": [
      "['zero', 'two', 'three', 'threa', 'thre1', 'one', 'four', 'Three']\n"
     ]
    }
   ],
   "source": [
    "lst3=['one','three','four','two','zero','thre1','Three','threa']\n",
    "lst3=sorted(lst3,reverse=True)\n",
    "print (lst3)"
   ]
  },
  {
   "cell_type": "code",
   "execution_count": 5,
   "metadata": {},
   "outputs": [
    {
     "name": "stdout",
     "output_type": "stream",
     "text": [
      "['zero', 'two', 'three', 'threa', 'thre1', 'one', 'four', 'Three', '4']\n",
      "['zero', 'two', 'three', 'threa', 'thre1', 'one', 'four', 'Three', '4', '5']\n",
      "\n",
      "\n",
      "5\n"
     ]
    }
   ],
   "source": [
    "abc=lst3\n",
    "lst3.append('4')\n",
    "print(abc)\n",
    "abc.append('5')\n",
    "print(lst3)\n",
    "\n",
    "print(\"\\n\")\n",
    "\n",
    "print(lst3[-1])"
   ]
  },
  {
   "cell_type": "code",
   "execution_count": 6,
   "metadata": {},
   "outputs": [
    {
     "name": "stdout",
     "output_type": "stream",
     "text": [
      "hii\n"
     ]
    }
   ],
   "source": [
    "if lst3[-1] == lst3[9]:\n",
    "    if lst3==abc :\n",
    "        print (\"hii\")"
   ]
  },
  {
   "cell_type": "code",
   "execution_count": 7,
   "metadata": {},
   "outputs": [
    {
     "name": "stdout",
     "output_type": "stream",
     "text": [
      "[1, 2, 3, 4, 'varma', 'brahma']\n"
     ]
    }
   ],
   "source": [
    "lst_1=[1,2,3,4]\n",
    "lst_2=['varma','brahma']\n",
    "\n",
    "new_lst=lst_1+lst_2\n",
    "print(new_lst)"
   ]
  },
  {
   "cell_type": "code",
   "execution_count": 8,
   "metadata": {},
   "outputs": [
    {
     "name": "stdout",
     "output_type": "stream",
     "text": [
      "64\n"
     ]
    }
   ],
   "source": [
    "x=4\n",
    "n=x**3\n",
    "print(n)"
   ]
  },
  {
   "cell_type": "code",
   "execution_count": 9,
   "metadata": {},
   "outputs": [
    {
     "name": "stdout",
     "output_type": "stream",
     "text": [
      "['one', 'two', 'three']\n"
     ]
    }
   ],
   "source": [
    "str=\"one,two,three\"\n",
    "lst_9=str.split(',')\n",
    "print(lst_9)"
   ]
  },
  {
   "cell_type": "code",
   "execution_count": null,
   "metadata": {},
   "outputs": [],
   "source": [
    "str1=','.join(lst_9)\n",
    "print(str1)"
   ]
  },
  {
   "cell_type": "code",
   "execution_count": 10,
   "metadata": {},
   "outputs": [
    {
     "name": "stdout",
     "output_type": "stream",
     "text": [
      "[[1, 5, 9], [2, 6, 10], [3, 7, 11], [4, 8, 12]]\n"
     ]
    }
   ],
   "source": [
    "matrix=[[1,2,3,4],[5,6,7,8],[9,10,11,12]]\n",
    "transpose=[]\n",
    "for i in range(4) :\n",
    "    lst=[]\n",
    "    for k in matrix :\n",
    "        lst.append(k[i])\n",
    "    transpose.append(lst)\n",
    "\n",
    "print(transpose)"
   ]
  },
  {
   "cell_type": "code",
   "execution_count": 11,
   "metadata": {},
   "outputs": [
    {
     "name": "stdout",
     "output_type": "stream",
     "text": [
      "[1, 2, 3, 5, 6]\n"
     ]
    }
   ],
   "source": [
    "t=(1,2,3,6,5)\n",
    "print(sorted(t))"
   ]
  },
  {
   "cell_type": "code",
   "execution_count": 12,
   "metadata": {},
   "outputs": [
    {
     "name": "stdout",
     "output_type": "stream",
     "text": [
      "{1, 2, 3}\n"
     ]
    }
   ],
   "source": [
    "s={1,2,3}\n",
    "print(s)"
   ]
  },
  {
   "cell_type": "code",
   "execution_count": 13,
   "metadata": {},
   "outputs": [
    {
     "name": "stdout",
     "output_type": "stream",
     "text": [
      "[1, 2, 3, 1, 3]\n",
      "{1, 2, 3}\n",
      "{1, 2, 3, 4}\n"
     ]
    }
   ],
   "source": [
    "lst_7=[1,2,3,1,3]\n",
    "print(lst_7)\n",
    "s1=set(lst_7)\n",
    "print(s1)\n",
    "s1.update({1,4,2,3})\n",
    "print(s1)"
   ]
  },
  {
   "cell_type": "code",
   "execution_count": 20,
   "metadata": {},
   "outputs": [
    {
     "name": "stdout",
     "output_type": "stream",
     "text": [
      "{1: 'satish', '1': 'prasoon'}\n",
      "prasoon\n"
     ]
    }
   ],
   "source": [
    "my_dict={1:'satish','1':'prasoon'}\n",
    "print(my_dict)\n",
    "print(my_dict['1'])\n",
    "\n",
    "#print(my_dict[2])"
   ]
  },
  {
   "cell_type": "code",
   "execution_count": 21,
   "metadata": {},
   "outputs": [
    {
     "name": "stdout",
     "output_type": "stream",
     "text": [
      "{1: 'abc', '1': 'xyz'}\n",
      "None\n",
      "<class 'NoneType'>\n",
      "Hii\n",
      "{'2': 'xxx', 2: 'xxx', '3': 'xxx', 3: 'xxx'}\n",
      "{'2': 'xxx', 2: 'xxx', '3': 'xxx', 3: 'xxx', 1: 'abc'}\n",
      "dict_items([('2', 'xxx'), (2, 'xxx'), ('3', 'xxx'), (3, 'xxx'), (1, 'abc')])\n"
     ]
    }
   ],
   "source": [
    "my_dict1=dict([(1,'abc'),('1','xyz')])\n",
    "\n",
    "print(my_dict1)\n",
    "\n",
    "print(my_dict1.get(2))\n",
    "print(type(my_dict1.get(2)))\n",
    "\n",
    "if (my_dict1.get(2)==None ):\n",
    "    print (\"Hii\")\n",
    "else :\n",
    "    print(\"Hello\")\n",
    "\n",
    "my_dict1=my_dict1.fromkeys(['2',2,'3',3],'xxx') \n",
    "print(my_dict1) \n",
    "\n",
    "my_dict1[1]='abc'\n",
    "print(my_dict1)\n",
    "\n",
    "print(my_dict1.items())\n",
    "\n"
   ]
  },
  {
   "cell_type": "code",
   "execution_count": 19,
   "metadata": {},
   "outputs": [
    {
     "name": "stdout",
     "output_type": "stream",
     "text": [
      "['__class__', '__contains__', '__delattr__', '__delitem__', '__dir__', '__doc__', '__eq__', '__format__', '__ge__', '__getattribute__', '__getitem__', '__gt__', '__hash__', '__init__', '__init_subclass__', '__iter__', '__le__', '__len__', '__lt__', '__ne__', '__new__', '__reduce__', '__reduce_ex__', '__repr__', '__setattr__', '__setitem__', '__sizeof__', '__str__', '__subclasshook__', 'clear', 'copy', 'fromkeys', 'get', 'items', 'keys', 'pop', 'popitem', 'setdefault', 'update', 'values']\n"
     ]
    }
   ],
   "source": [
    "print(dir(my_dict1))"
   ]
  }
 ],
 "metadata": {
  "kernelspec": {
   "display_name": "Python 3",
   "language": "python",
   "name": "python3"
  },
  "language_info": {
   "codemirror_mode": {
    "name": "ipython",
    "version": 3
   },
   "file_extension": ".py",
   "mimetype": "text/x-python",
   "name": "python",
   "nbconvert_exporter": "python",
   "pygments_lexer": "ipython3",
   "version": "3.7.3"
  }
 },
 "nbformat": 4,
 "nbformat_minor": 2
}
